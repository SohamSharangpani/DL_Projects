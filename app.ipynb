{
 "cells": [
  {
   "cell_type": "code",
   "execution_count": 1,
   "metadata": {},
   "outputs": [
    {
     "ename": "NameError",
     "evalue": "name '__file__' is not defined",
     "output_type": "error",
     "traceback": [
      "\u001b[1;31m---------------------------------------------------------------------------\u001b[0m",
      "\u001b[1;31mNameError\u001b[0m                                 Traceback (most recent call last)",
      "\u001b[1;32m<ipython-input-1-60d114e03c64>\u001b[0m in \u001b[0;36m<module>\u001b[1;34m\u001b[0m\n\u001b[0;32m      9\u001b[0m \u001b[1;33m\u001b[0m\u001b[0m\n\u001b[0;32m     10\u001b[0m \u001b[1;33m\u001b[0m\u001b[0m\n\u001b[1;32m---> 11\u001b[1;33m \u001b[0mAPP_ROOT\u001b[0m \u001b[1;33m=\u001b[0m \u001b[0mos\u001b[0m\u001b[1;33m.\u001b[0m\u001b[0mpath\u001b[0m\u001b[1;33m.\u001b[0m\u001b[0mdirname\u001b[0m\u001b[1;33m(\u001b[0m\u001b[0mos\u001b[0m\u001b[1;33m.\u001b[0m\u001b[0mpath\u001b[0m\u001b[1;33m.\u001b[0m\u001b[0mabspath\u001b[0m\u001b[1;33m(\u001b[0m\u001b[0m__file__\u001b[0m\u001b[1;33m)\u001b[0m\u001b[1;33m)\u001b[0m\u001b[1;33m\u001b[0m\u001b[1;33m\u001b[0m\u001b[0m\n\u001b[0m\u001b[0;32m     12\u001b[0m \u001b[1;33m\u001b[0m\u001b[0m\n\u001b[0;32m     13\u001b[0m \u001b[0mclasses\u001b[0m \u001b[1;33m=\u001b[0m \u001b[1;33m[\u001b[0m\u001b[1;34m'Fresh Apple'\u001b[0m\u001b[1;33m,\u001b[0m\u001b[1;34m'Fresh Banana'\u001b[0m\u001b[1;33m,\u001b[0m\u001b[1;34m'Fresh Orange'\u001b[0m\u001b[1;33m,\u001b[0m\u001b[1;34m'Rotten Apple'\u001b[0m\u001b[1;33m,\u001b[0m\u001b[1;34m'Rotten Banana'\u001b[0m\u001b[1;33m,\u001b[0m\u001b[1;34m'Rotten Orange'\u001b[0m\u001b[1;33m]\u001b[0m\u001b[1;33m\u001b[0m\u001b[1;33m\u001b[0m\u001b[0m\n",
      "\u001b[1;31mNameError\u001b[0m: name '__file__' is not defined"
     ]
    }
   ],
   "source": [
    "import os\n",
    "from uuid import uuid4\n",
    "\n",
    "from flask import Flask, request, render_template, send_from_directory\n",
    "\n",
    "app = Flask(__name__)\n",
    "# app = Flask(__name__, static_folder=\"images\")\n",
    "\n",
    "\n",
    "\n",
    "APP_ROOT = os.path.dirname(os.path.abspath(__file__))\n",
    "\n",
    "classes = ['Fresh Apple','Fresh Banana','Fresh Orange','Rotten Apple','Rotten Banana','Rotten Orange']\n",
    "\n",
    "@app.route(\"/\")\n",
    "def index():\n",
    "    return render_template(\"index.html\")\n",
    "\n",
    "@app.route(\"/upload\", methods=[\"POST\"])\n",
    "def upload():\n",
    "    target = os.path.join(APP_ROOT, 'images/')\n",
    "    # target = os.path.join(APP_ROOT, 'static/')\n",
    "    print(target)\n",
    "    if not os.path.isdir(target):\n",
    "            os.mkdir(target)\n",
    "    else:\n",
    "        print(\"Couldn't create upload directory: {}\".format(target))\n",
    "    print(request.files.getlist(\"file\"))\n",
    "    for upload in request.files.getlist(\"file\"):\n",
    "        print(upload)\n",
    "        print(\"{} is the file name\".format(upload.filename))\n",
    "        filename = upload.filename\n",
    "        destination = \"/\".join([target, filename])\n",
    "        print (\"Accept incoming file:\", filename)\n",
    "        print (\"Save it to:\", destination)\n",
    "        upload.save(destination)\n",
    "        #import tensorflow as tf\n",
    "        import numpy as np\n",
    "        from keras.preprocessing import image\n",
    "\n",
    "        from keras.models import load_model\n",
    "        new_model = load_model('model.h5')\n",
    "        new_model.summary()\n",
    "        test_image = image.load_img('images\\\\'+filename,target_size=(64,64))\n",
    "        test_image = image.img_to_array(test_image)\n",
    "        test_image = np.expand_dims(test_image, axis = 0)\n",
    "        result = new_model.predict(test_image)\n",
    "        result1 = result[0]\n",
    "        for i in range(6):\n",
    "    \n",
    "            if result1[i] == 1.:\n",
    "                break;\n",
    "        prediction = classes[i]\n",
    "\n",
    "    # return send_from_directory(\"images\", filename, as_attachment=True)\n",
    "    return render_template(\"template.html\",image_name=filename, text=prediction)\n",
    "\n",
    "@app.route('/upload/<filename>')\n",
    "def send_image(filename):\n",
    "    return send_from_directory(\"images\", filename)\n",
    "\n",
    "if __name__ == \"__main__\":\n",
    "    app.run(debug=False)\n",
    "\n"
   ]
  },
  {
   "cell_type": "code",
   "execution_count": null,
   "metadata": {},
   "outputs": [],
   "source": []
  }
 ],
 "metadata": {
  "kernelspec": {
   "display_name": "Python 3",
   "language": "python",
   "name": "python3"
  },
  "language_info": {
   "codemirror_mode": {
    "name": "ipython",
    "version": 3
   },
   "file_extension": ".py",
   "mimetype": "text/x-python",
   "name": "python",
   "nbconvert_exporter": "python",
   "pygments_lexer": "ipython3",
   "version": "3.8.3"
  }
 },
 "nbformat": 4,
 "nbformat_minor": 4
}
